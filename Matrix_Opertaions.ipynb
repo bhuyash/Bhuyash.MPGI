{
  "nbformat": 4,
  "nbformat_minor": 0,
  "metadata": {
    "colab": {
      "provenance": [],
      "authorship_tag": "ABX9TyNzZCej9MFzXcAtWbJ+R8ij",
      "include_colab_link": true
    },
    "kernelspec": {
      "name": "python3",
      "display_name": "Python 3"
    },
    "language_info": {
      "name": "python"
    }
  },
  "cells": [
    {
      "cell_type": "markdown",
      "metadata": {
        "id": "view-in-github",
        "colab_type": "text"
      },
      "source": [
        "<a href=\"https://colab.research.google.com/github/bhuyash/Bhuyash.MPGI/blob/main/Matrix_Opertaions.ipynb\" target=\"_parent\"><img src=\"https://colab.research.google.com/assets/colab-badge.svg\" alt=\"Open In Colab\"/></a>"
      ]
    },
    {
      "cell_type": "code",
      "execution_count": null,
      "metadata": {
        "colab": {
          "base_uri": "https://localhost:8080/"
        },
        "id": "8omnuda3jG5B",
        "outputId": "a78486ee-0a50-4020-bf66-aebe1e123fb4"
      },
      "outputs": [
        {
          "output_type": "stream",
          "name": "stdout",
          "text": [
            "Enter Row size of array 1:3\n",
            "Enter Column size of array 1:3\n",
            "Enter Row size of array 2:3\n",
            "Enter Column size of array 2:3\n",
            "enter 9 elements of array 1 Seprated by space:1 2 3 4 5 6 7 8 9\n",
            "enter 9 elements of array 2 Seprated by space:9 8 7 6 5 4 3 2 1\n",
            "\t\t\t #### Main Menu #### \t\t\t\t\n",
            "1.Addition\n",
            "2.Substraction\n",
            "3.Multiplication\n",
            "4.Transpose\n",
            "5.Determinant\n",
            "6.Inverse\n",
            "Enter your choice:1\n",
            "Addition of two matrix is: [[10. 10. 10.]\n",
            " [10. 10. 10.]\n",
            " [10. 10. 10.]]\n",
            "Do you want to continue(yes/no):yes\n",
            "\t\t\t #### Main Menu #### \t\t\t\t\n",
            "1.Addition\n",
            "2.Substraction\n",
            "3.Multiplication\n",
            "4.Transpose\n",
            "5.Determinant\n",
            "6.Inverse\n",
            "Enter your choice:2\n",
            "Substraction of two matrix is: [[-8. -6. -4.]\n",
            " [-2.  0.  2.]\n",
            " [ 4.  6.  8.]]\n"
          ]
        }
      ],
      "source": [
        "import numpy as np\n",
        "\n",
        "ar_row_size=int(input(\"Enter Row size of array 1:\"))\n",
        "ar_col_size=int(input(\"Enter Column size of array 1:\"))\n",
        "ar1_row_size=int(input(\"Enter Row size of array 2:\"))\n",
        "ar1_col_size=int(input(\"Enter Column size of array 2:\"))\n",
        "num=input(f\"enter {ar_col_size*ar_row_size} elements of array 1 Seprated by space:\")\n",
        "num1=input(f\"enter {ar1_col_size*ar1_row_size} elements of array 2 Seprated by space:\")\n",
        "ar1=np.array(list(map(float,num.split()))).reshape(ar_row_size,ar_col_size)\n",
        "ar2=np.array(list(map(float,num1.split()))).reshape(ar1_row_size,ar1_col_size)\n",
        "\n",
        "def addition(ar1,ar2):\n",
        "  if ar1.shape!=ar2.shape:\n",
        "    print(\"Matrices should be of same order\")\n",
        "  else:\n",
        "    return ar1+ar2\n",
        "def substraction(ar1,ar2):\n",
        "  if ar1.shape!=ar2.shape:\n",
        "    print(\"Matrices should be of same order\")\n",
        "  else:\n",
        "    return ar1-ar2\n",
        "def multiplication(ar1,ar2):\n",
        "  if ar_col_size!=ar1_row_size:\n",
        "    print(\"First matrix column size shuld be equal to second matrix row size\")\n",
        "  else:\n",
        "    return ar1@ar2\n",
        "\n",
        "def Transpose(ar1,ar2):\n",
        "  print(\"Transpose of first matrix:\",ar1.T)\n",
        "  print(\"\\nTranspose of second matrix:\",ar2.T)\n",
        "\n",
        "def determinant(ar1,ar2):\n",
        "  if ar_row_size==ar_col_size:\n",
        "    print(\"Determinant of Matrix 1:\",np.linalg.det(ar1))\n",
        "  else:\n",
        "    print(\"Matrix 1 is not a square matrix\")\n",
        "\n",
        "  if ar1_row_size==ar1_col_size:\n",
        "    print(\"Determinant of Matrix 2:\",np.linalg.det(ar2))\n",
        "  else:\n",
        "    print(\"Matrix 2 is not a square matrix\")\n",
        "\n",
        "def Inverse(ar1,ar2):\n",
        "  if np.linalg.det(ar1)!=0:\n",
        "    print(\"Inverse of matrix 1:\",np.linalg.inv(ar1))\n",
        "  else:\n",
        "    print(\"Inverse cant be found of matrix 1\")\n",
        "\n",
        "  if np.linalg.det(ar2)!=0:\n",
        "    print(\"Inverse of matrix 2:\",np.linalg.inv(ar2))\n",
        "  else:\n",
        "    print(\"Inverse cant be found of matrix 2\")\n",
        "\n",
        "ch=\"yes\"\n",
        "while(ch.lower()==\"yes\"):\n",
        "  print(\"\\t\\t\\t #### Main Menu #### \\t\\t\\t\\t\")\n",
        "  print(\"1.Addition\\n2.Substraction\\n3.Multiplication\\n4.Transpose\\n5.Determinant\\n6.Inverse\")\n",
        "  choice=int(input(\"Enter your choice:\"))\n",
        "  if choice==1:\n",
        "    print(\"Addition of two matrix is:\",addition(ar1,ar2))\n",
        "  elif choice==2:\n",
        "    print(\"Substraction of two matrix is:\",substraction(ar1,ar2))\n",
        "  elif choice==3:\n",
        "    print(\"Multiplication of two matrix is:\",multiplication(ar1,ar2))\n",
        "  elif choice==4:\n",
        "    Transpose(ar1,ar2)\n",
        "  elif choice==5:\n",
        "    determinant(ar1,ar2)\n",
        "  elif choice==6:\n",
        "    Inverse(ar1,ar2)\n",
        "  else:\n",
        "    print(\"Invalid choice\")\n",
        "  ch=input(\"Do you want to continue(yes/no):\")\n",
        "\n",
        "\n"
      ]
    }
  ]
}